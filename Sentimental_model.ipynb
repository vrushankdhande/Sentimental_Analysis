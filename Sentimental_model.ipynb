{
 "cells": [
  {
   "cell_type": "markdown",
   "id": "1b5cda29",
   "metadata": {},
   "source": [
    "# Sentimental Model"
   ]
  },
  {
   "cell_type": "markdown",
   "id": "4e0da046",
   "metadata": {},
   "source": [
    "## Import important librarys "
   ]
  },
  {
   "cell_type": "code",
   "execution_count": 1,
   "id": "a96df519",
   "metadata": {},
   "outputs": [],
   "source": [
    "import numpy as np\n",
    "import pandas as pd\n",
    "from sklearn.model_selection import train_test_split\n",
    "from sklearn.feature_extraction.text import CountVectorizer, TfidfTransformer\n",
    "from sklearn.pipeline import Pipeline\n",
    "from sklearn.neighbors import KNeighborsClassifier\n",
    "import string, os "
   ]
  },
  {
   "cell_type": "markdown",
   "id": "ee036051",
   "metadata": {},
   "source": [
    "## Path of file and preprocessing function"
   ]
  },
  {
   "cell_type": "code",
   "execution_count": 8,
   "id": "3405e37c",
   "metadata": {},
   "outputs": [],
   "source": [
    "df = pd.read_csv('topical_chat.csv')\n",
    "def process(text):\n",
    "    text=str(text)\n",
    "    text = text.lower().replace('\\n', ' ').replace('-', ' ').replace(':', ' ').replace(',', '') \\\n",
    "          .replace('\"', ' ').replace(\".\", \" \").replace(\"!\", \" \").replace(\"?\", \" \").replace(\";\", \" \").replace(\":\", \" \")\n",
    "    text = \"\".join(v for v in text if v not in string.punctuation).lower()\n",
    "    text = \" \".join(text.split())\n",
    "    return text"
   ]
  },
  {
   "cell_type": "markdown",
   "id": "09d1c409",
   "metadata": {},
   "source": [
    "Calling the main function of preprocessing "
   ]
  },
  {
   "cell_type": "code",
   "execution_count": 9,
   "id": "c6b399ac",
   "metadata": {},
   "outputs": [],
   "source": [
    "df.message = df.message.apply(process)"
   ]
  },
  {
   "cell_type": "markdown",
   "id": "184a133d",
   "metadata": {},
   "source": [
    "## Spliting the data "
   ]
  },
  {
   "cell_type": "markdown",
   "id": "1b2c6624",
   "metadata": {},
   "source": [
    "Into X_train, Y train, X_test and Y_test"
   ]
  },
  {
   "cell_type": "code",
   "execution_count": 10,
   "id": "7344c064",
   "metadata": {},
   "outputs": [],
   "source": [
    "X = df['message']\n",
    "y = df['sentiment']\n",
    "X_train, X_test, y_train, y_test = train_test_split(X, y, test_size=0.3, random_state=0)"
   ]
  },
  {
   "cell_type": "markdown",
   "id": "c6e3b1ed",
   "metadata": {},
   "source": [
    "Crossing Checking the data"
   ]
  },
  {
   "cell_type": "code",
   "execution_count": 11,
   "id": "86435e93",
   "metadata": {},
   "outputs": [
    {
     "data": {
      "text/plain": [
       "0                      are you a fan of google or microsoft\n",
       "1         both are excellent technology they are helpful...\n",
       "2         im not a huge fan of google but i use it a lot...\n",
       "3         google provides online related services and pr...\n",
       "4         yeah their services are good im just not a fan...\n",
       "                                ...                        \n",
       "188373    wow it does not seem like that long since i me...\n",
       "188374    i havent seen that episode i might google it l...\n",
       "188375    i dont think i have either thats an insane amo...\n",
       "188376    i did my little brother used to love thomas th...\n",
       "188377    it did ringo starr george carlin and alec bald...\n",
       "Name: message, Length: 188378, dtype: object"
      ]
     },
     "execution_count": 11,
     "metadata": {},
     "output_type": "execute_result"
    }
   ],
   "source": [
    "X"
   ]
  },
  {
   "cell_type": "markdown",
   "id": "f5394fb1",
   "metadata": {},
   "source": [
    "## Creating the pipeline of the model"
   ]
  },
  {
   "cell_type": "markdown",
   "id": "1f953852",
   "metadata": {},
   "source": [
    "CountVectorizer is a great tool provided by the scikit-learn library in Python. It is used to transform a given text into a vector on the basis of the frequency (count) of each word that occurs in the entire text.\n",
    "\n",
    "TfidfTransformer. Transform a count matrix to a normalized tf or tf-idf representation. Tf means term-frequency while tf-idf means term-frequency times inverse document-frequency. This is a common term weighting scheme in information retrieval, that has also found good use in document classification.\n",
    "\n",
    "KNeighborsClassifier is a supervised learning algorithm that makes classifications based on data neighbors"
   ]
  },
  {
   "cell_type": "code",
   "execution_count": null,
   "id": "33c1ba7c",
   "metadata": {},
   "outputs": [],
   "source": [
    "model = Pipeline([\n",
    "    (\"vect\",CountVectorizer()),\n",
    "    (\"tfid\",TfidfTransformer()),\n",
    "    (\"algorithm\",KNeighborsClassifier(n_neighbors=1))])\n",
    "model.fit(X_train, y_train)"
   ]
  },
  {
   "cell_type": "markdown",
   "id": "c98a623e",
   "metadata": {},
   "source": [
    "## Prediction Function and there outputs "
   ]
  },
  {
   "cell_type": "code",
   "execution_count": 14,
   "id": "189ff01d",
   "metadata": {},
   "outputs": [
    {
     "name": "stdout",
     "output_type": "stream",
     "text": [
      "Curious to dive deeper\n",
      "Surprised\n",
      "Curious to dive deeper\n"
     ]
    }
   ],
   "source": [
    "def predict_emotion(text):\n",
    "    return model.predict([text])[0]\n",
    "\n",
    "print(predict_emotion(\"Did you know babies are really good at dancing\"))\n",
    "print(predict_emotion(\"Yes and then he also invented names like Jessica, Olivia and Miranda\"))\n",
    "print(predict_emotion(\"say what now?? they have that??\"))"
   ]
  },
  {
   "cell_type": "markdown",
   "id": "5383773e",
   "metadata": {},
   "source": [
    "## Test model score"
   ]
  },
  {
   "cell_type": "code",
   "execution_count": 25,
   "id": "817315fe",
   "metadata": {},
   "outputs": [
    {
     "name": "stdout",
     "output_type": "stream",
     "text": [
      "Model accuracy: 33%\n"
     ]
    }
   ],
   "source": [
    "score = model.score(X_test, y_test)\n",
    "score = str(int(score))\n",
    "print(\"Model accuracy: \" + score + \"%\")"
   ]
  }
 ],
 "metadata": {
  "kernelspec": {
   "display_name": "Python 3 (ipykernel)",
   "language": "python",
   "name": "python3"
  },
  "language_info": {
   "codemirror_mode": {
    "name": "ipython",
    "version": 3
   },
   "file_extension": ".py",
   "mimetype": "text/x-python",
   "name": "python",
   "nbconvert_exporter": "python",
   "pygments_lexer": "ipython3",
   "version": "3.9.13"
  }
 },
 "nbformat": 4,
 "nbformat_minor": 5
}
